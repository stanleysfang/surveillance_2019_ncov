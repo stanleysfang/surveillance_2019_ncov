{
 "cells": [
  {
   "cell_type": "code",
   "execution_count": 1,
   "metadata": {},
   "outputs": [],
   "source": [
    "import sys\n",
    "sys.path.append('/home/sfang/windows/gitlab/stanleysfang/surveillance_2019_ncov/prod')"
   ]
  },
  {
   "cell_type": "code",
   "execution_count": 2,
   "metadata": {},
   "outputs": [],
   "source": [
    "from google.cloud import bigquery\n",
    "from BigQueryWrapper import QueryRunner, Loader, Extractor\n",
    "import pandas as pd\n",
    "import datetime\n",
    "import re"
   ]
  },
  {
   "cell_type": "code",
   "execution_count": 3,
   "metadata": {},
   "outputs": [],
   "source": [
    "project_id = 'stanleysfang'"
   ]
  },
  {
   "cell_type": "code",
   "execution_count": 4,
   "metadata": {},
   "outputs": [],
   "source": [
    "client = bigquery.Client(project=project_id)"
   ]
  },
  {
   "cell_type": "code",
   "execution_count": 5,
   "metadata": {},
   "outputs": [],
   "source": [
    "qr = QueryRunner(client=client)\n",
    "loader = Loader(client=client)\n",
    "extractor = Extractor(client=client)"
   ]
  },
  {
   "cell_type": "markdown",
   "metadata": {},
   "source": [
    "### Functions"
   ]
  },
  {
   "cell_type": "code",
   "execution_count": 6,
   "metadata": {},
   "outputs": [],
   "source": [
    "def find_all_cols(url, start_dt, end_dt=datetime.date.today() - datetime.timedelta(days=1)):\n",
    "    col_set = set()\n",
    "    for d in pd.date_range(start_dt, end_dt):\n",
    "        print(d.strftime('%Y-%m-%d'))\n",
    "        df = pd.read_csv(url + d.strftime('%m-%d-%Y') + '.csv')\n",
    "        for col in df.columns:\n",
    "            if col not in col_set:\n",
    "                col_set.add(col)\n",
    "    print(col_set)\n",
    "    return col_set"
   ]
  },
  {
   "cell_type": "code",
   "execution_count": 7,
   "metadata": {},
   "outputs": [],
   "source": [
    "def standardize_daily_reports(df, col_mapping, col_order):\n",
    "    cols = []\n",
    "    for col in df.columns:\n",
    "        cols.append(col_mapping[col][0])\n",
    "        df[col] = df[col].astype(col_mapping[col][1])\n",
    "    df.columns = cols\n",
    "    for col, dtype in set(col_mapping.values()):\n",
    "        if col not in df.columns:\n",
    "            df[col] = pd.Series(dtype=dtype)\n",
    "    df = df[col_order]\n",
    "    return df"
   ]
  },
  {
   "cell_type": "markdown",
   "metadata": {},
   "source": [
    "### US"
   ]
  },
  {
   "cell_type": "code",
   "execution_count": 8,
   "metadata": {},
   "outputs": [],
   "source": [
    "d = datetime.date.today() - datetime.timedelta(days=1)\n",
    "# d = datetime.date(2020, 4, 12)"
   ]
  },
  {
   "cell_type": "code",
   "execution_count": 9,
   "metadata": {},
   "outputs": [],
   "source": [
    "url = 'https://raw.githubusercontent.com/CSSEGISandData/COVID-19/master/csse_covid_19_data/csse_covid_19_daily_reports_us/'"
   ]
  },
  {
   "cell_type": "code",
   "execution_count": 10,
   "metadata": {
    "scrolled": true
   },
   "outputs": [],
   "source": [
    "# col_set = find_all_cols(url, start_dt=datetime.date(2020, 4, 12), end_dt=d)"
   ]
  },
  {
   "cell_type": "code",
   "execution_count": 11,
   "metadata": {},
   "outputs": [],
   "source": [
    "col_mapping_us = {\n",
    "    'UID': ('UID', 'float64'),\n",
    "    'FIPS': ('FIPS', 'float64'), # Federal Information Processing Standards code that uniquely identifies counties within the US\n",
    "    'ISO3': ('iso3', 'object'),\n",
    "    'Province_State': ('province_state', 'object'),\n",
    "    'Country_Region': ('country_region', 'object'),\n",
    "    'Lat': ('latitude', 'float64'),\n",
    "    'Long_': ('longitude', 'float64'),\n",
    "    'Confirmed': ('confirmed', 'float64'),\n",
    "    'Deaths': ('deaths', 'float64'),\n",
    "    'Recovered': ('recovered', 'float64'),\n",
    "    'Active': ('active', 'float64'),\n",
    "    'Incident_Rate': ('incident_rate', 'float64'),\n",
    "    'Case_Fatality_Ratio': ('case_fatality_ratio', 'float64'),\n",
    "    'Mortality_Rate': ('case_fatality_ratio', 'float64'),\n",
    "    'Total_Test_Results': ('total_test_results', 'float64'),\n",
    "    'People_Tested': ('total_test_results', 'float64'),\n",
    "    'Testing_Rate': ('testing_rate', 'float64'),\n",
    "    'People_Hospitalized': ('people_hospitalized', 'float64'),\n",
    "    'Hospitalization_Rate': ('hospitalization_rate', 'float64'),\n",
    "    'Last_Update': ('last_update', 'datetime64'),\n",
    "}"
   ]
  },
  {
   "cell_type": "code",
   "execution_count": 12,
   "metadata": {},
   "outputs": [],
   "source": [
    "col_order_us = [\n",
    "    'UID',\n",
    "    'FIPS',\n",
    "    'iso3',\n",
    "    'province_state',\n",
    "    'country_region',\n",
    "    'latitude',\n",
    "    'longitude',\n",
    "    'confirmed',\n",
    "    'deaths',\n",
    "    'recovered',\n",
    "    'active',\n",
    "    'incident_rate',\n",
    "    'case_fatality_ratio',\n",
    "    'total_test_results',\n",
    "    'testing_rate',\n",
    "    'people_hospitalized',\n",
    "    'hospitalization_rate',\n",
    "    'last_update',\n",
    "]"
   ]
  },
  {
   "cell_type": "code",
   "execution_count": 13,
   "metadata": {},
   "outputs": [],
   "source": [
    "daily_report_us = pd.read_csv(url + d.strftime('%m-%d-%Y') + '.csv')\n",
    "daily_report_us = standardize_daily_reports(daily_report_us, col_mapping_us, col_order_us)"
   ]
  },
  {
   "cell_type": "code",
   "execution_count": 14,
   "metadata": {
    "scrolled": true
   },
   "outputs": [
    {
     "data": {
      "text/plain": [
       "(58, 18)"
      ]
     },
     "execution_count": 14,
     "metadata": {},
     "output_type": "execute_result"
    }
   ],
   "source": [
    "daily_report_us.shape"
   ]
  },
  {
   "cell_type": "code",
   "execution_count": 15,
   "metadata": {},
   "outputs": [
    {
     "data": {
      "text/plain": [
       "UID                            float64\n",
       "FIPS                           float64\n",
       "ISO3                            object\n",
       "province_state                  object\n",
       "country_region                  object\n",
       "latitude                       float64\n",
       "longitude                      float64\n",
       "confirmed                      float64\n",
       "deaths                         float64\n",
       "recovered                      float64\n",
       "active                         float64\n",
       "incident_rate                  float64\n",
       "case_fatality_ratio            float64\n",
       "total_test_results             float64\n",
       "testing_rate                   float64\n",
       "people_hospitalized            float64\n",
       "hospitalization_rate           float64\n",
       "last_update             datetime64[ns]\n",
       "dtype: object"
      ]
     },
     "execution_count": 15,
     "metadata": {},
     "output_type": "execute_result"
    }
   ],
   "source": [
    "daily_report_us.dtypes"
   ]
  },
  {
   "cell_type": "code",
   "execution_count": 16,
   "metadata": {},
   "outputs": [
    {
     "data": {
      "text/html": [
       "<div>\n",
       "<style scoped>\n",
       "    .dataframe tbody tr th:only-of-type {\n",
       "        vertical-align: middle;\n",
       "    }\n",
       "\n",
       "    .dataframe tbody tr th {\n",
       "        vertical-align: top;\n",
       "    }\n",
       "\n",
       "    .dataframe thead th {\n",
       "        text-align: right;\n",
       "    }\n",
       "</style>\n",
       "<table border=\"1\" class=\"dataframe\">\n",
       "  <thead>\n",
       "    <tr style=\"text-align: right;\">\n",
       "      <th></th>\n",
       "      <th>UID</th>\n",
       "      <th>FIPS</th>\n",
       "      <th>ISO3</th>\n",
       "      <th>province_state</th>\n",
       "      <th>country_region</th>\n",
       "      <th>latitude</th>\n",
       "      <th>longitude</th>\n",
       "      <th>confirmed</th>\n",
       "      <th>deaths</th>\n",
       "      <th>recovered</th>\n",
       "      <th>active</th>\n",
       "      <th>incident_rate</th>\n",
       "      <th>case_fatality_ratio</th>\n",
       "      <th>total_test_results</th>\n",
       "      <th>testing_rate</th>\n",
       "      <th>people_hospitalized</th>\n",
       "      <th>hospitalization_rate</th>\n",
       "      <th>last_update</th>\n",
       "    </tr>\n",
       "  </thead>\n",
       "  <tbody>\n",
       "    <tr>\n",
       "      <th>0</th>\n",
       "      <td>84000001.0</td>\n",
       "      <td>1.0</td>\n",
       "      <td>USA</td>\n",
       "      <td>Alabama</td>\n",
       "      <td>US</td>\n",
       "      <td>32.3182</td>\n",
       "      <td>-86.9023</td>\n",
       "      <td>220848.0</td>\n",
       "      <td>3301.0</td>\n",
       "      <td>88038.0</td>\n",
       "      <td>129509.0</td>\n",
       "      <td>4504.174328</td>\n",
       "      <td>1.494693</td>\n",
       "      <td>1473546.0</td>\n",
       "      <td>30052.833005</td>\n",
       "      <td>NaN</td>\n",
       "      <td>NaN</td>\n",
       "      <td>2020-11-18 05:42:00</td>\n",
       "    </tr>\n",
       "    <tr>\n",
       "      <th>1</th>\n",
       "      <td>84000002.0</td>\n",
       "      <td>2.0</td>\n",
       "      <td>USA</td>\n",
       "      <td>Alaska</td>\n",
       "      <td>US</td>\n",
       "      <td>61.3707</td>\n",
       "      <td>-152.4044</td>\n",
       "      <td>25041.0</td>\n",
       "      <td>100.0</td>\n",
       "      <td>7165.0</td>\n",
       "      <td>17776.0</td>\n",
       "      <td>3423.029342</td>\n",
       "      <td>0.399345</td>\n",
       "      <td>878622.0</td>\n",
       "      <td>120104.983289</td>\n",
       "      <td>NaN</td>\n",
       "      <td>NaN</td>\n",
       "      <td>2020-11-18 05:42:00</td>\n",
       "    </tr>\n",
       "    <tr>\n",
       "      <th>2</th>\n",
       "      <td>16.0</td>\n",
       "      <td>60.0</td>\n",
       "      <td>ASM</td>\n",
       "      <td>American Samoa</td>\n",
       "      <td>US</td>\n",
       "      <td>-14.2710</td>\n",
       "      <td>-170.1320</td>\n",
       "      <td>0.0</td>\n",
       "      <td>0.0</td>\n",
       "      <td>NaN</td>\n",
       "      <td>0.0</td>\n",
       "      <td>0.000000</td>\n",
       "      <td>NaN</td>\n",
       "      <td>1988.0</td>\n",
       "      <td>3572.904872</td>\n",
       "      <td>NaN</td>\n",
       "      <td>NaN</td>\n",
       "      <td>2020-11-18 05:42:00</td>\n",
       "    </tr>\n",
       "    <tr>\n",
       "      <th>3</th>\n",
       "      <td>84000004.0</td>\n",
       "      <td>4.0</td>\n",
       "      <td>USA</td>\n",
       "      <td>Arizona</td>\n",
       "      <td>US</td>\n",
       "      <td>33.7298</td>\n",
       "      <td>-111.4312</td>\n",
       "      <td>279896.0</td>\n",
       "      <td>6312.0</td>\n",
       "      <td>46103.0</td>\n",
       "      <td>227481.0</td>\n",
       "      <td>3845.402974</td>\n",
       "      <td>2.255123</td>\n",
       "      <td>2004208.0</td>\n",
       "      <td>27535.182368</td>\n",
       "      <td>NaN</td>\n",
       "      <td>NaN</td>\n",
       "      <td>2020-11-18 05:42:00</td>\n",
       "    </tr>\n",
       "    <tr>\n",
       "      <th>4</th>\n",
       "      <td>84000005.0</td>\n",
       "      <td>5.0</td>\n",
       "      <td>USA</td>\n",
       "      <td>Arkansas</td>\n",
       "      <td>US</td>\n",
       "      <td>34.9697</td>\n",
       "      <td>-92.3731</td>\n",
       "      <td>135902.0</td>\n",
       "      <td>2245.0</td>\n",
       "      <td>117068.0</td>\n",
       "      <td>16589.0</td>\n",
       "      <td>4503.340840</td>\n",
       "      <td>1.651926</td>\n",
       "      <td>1525279.0</td>\n",
       "      <td>50542.679379</td>\n",
       "      <td>NaN</td>\n",
       "      <td>NaN</td>\n",
       "      <td>2020-11-18 05:42:00</td>\n",
       "    </tr>\n",
       "  </tbody>\n",
       "</table>\n",
       "</div>"
      ],
      "text/plain": [
       "          UID  FIPS ISO3  province_state country_region  latitude  longitude  \\\n",
       "0  84000001.0   1.0  USA         Alabama             US   32.3182   -86.9023   \n",
       "1  84000002.0   2.0  USA          Alaska             US   61.3707  -152.4044   \n",
       "2        16.0  60.0  ASM  American Samoa             US  -14.2710  -170.1320   \n",
       "3  84000004.0   4.0  USA         Arizona             US   33.7298  -111.4312   \n",
       "4  84000005.0   5.0  USA        Arkansas             US   34.9697   -92.3731   \n",
       "\n",
       "   confirmed  deaths  recovered    active  incident_rate  case_fatality_ratio  \\\n",
       "0   220848.0  3301.0    88038.0  129509.0    4504.174328             1.494693   \n",
       "1    25041.0   100.0     7165.0   17776.0    3423.029342             0.399345   \n",
       "2        0.0     0.0        NaN       0.0       0.000000                  NaN   \n",
       "3   279896.0  6312.0    46103.0  227481.0    3845.402974             2.255123   \n",
       "4   135902.0  2245.0   117068.0   16589.0    4503.340840             1.651926   \n",
       "\n",
       "   total_test_results   testing_rate  people_hospitalized  \\\n",
       "0           1473546.0   30052.833005                  NaN   \n",
       "1            878622.0  120104.983289                  NaN   \n",
       "2              1988.0    3572.904872                  NaN   \n",
       "3           2004208.0   27535.182368                  NaN   \n",
       "4           1525279.0   50542.679379                  NaN   \n",
       "\n",
       "   hospitalization_rate         last_update  \n",
       "0                   NaN 2020-11-18 05:42:00  \n",
       "1                   NaN 2020-11-18 05:42:00  \n",
       "2                   NaN 2020-11-18 05:42:00  \n",
       "3                   NaN 2020-11-18 05:42:00  \n",
       "4                   NaN 2020-11-18 05:42:00  "
      ]
     },
     "execution_count": 16,
     "metadata": {},
     "output_type": "execute_result"
    }
   ],
   "source": [
    "daily_report_us.head()"
   ]
  },
  {
   "cell_type": "code",
   "execution_count": 17,
   "metadata": {},
   "outputs": [],
   "source": [
    "schema_us = [\n",
    "    ('UID', 'INT64'),\n",
    "    ('FIPS', 'INT64'),\n",
    "    ('iso3', 'STRING'),\n",
    "    ('province_state', 'STRING'),\n",
    "    ('country_region', 'STRING'),\n",
    "    ('latitude', 'FLOAT64'),\n",
    "    ('longitude', 'FLOAT64'),\n",
    "    ('confirmed', 'INT64'),\n",
    "    ('deaths', 'INT64'),\n",
    "    ('recovered', 'INT64'),\n",
    "    ('active', 'INT64'),\n",
    "    ('incident_rate', 'FLOAT64'),\n",
    "    ('case_fatality_ratio', 'FLOAT64'),\n",
    "    ('total_test_results', 'INT64'),\n",
    "    ('testing_rate', 'FLOAT64'),\n",
    "    ('people_hospitalized', 'INT64'),\n",
    "    ('hospitalization_rate', 'FLOAT64'),\n",
    "    ('last_update', 'TIMESTAMP'),\n",
    "]"
   ]
  },
  {
   "cell_type": "code",
   "execution_count": 18,
   "metadata": {},
   "outputs": [],
   "source": [
    "load_job = loader.load_df(\n",
    "    daily_report_us,\n",
    "    'stanleysfang.surveillance_2019_ncov.csse_covid_19_daily_reports_us${}'.format(d.strftime('%Y%m%d')),\n",
    "    schema=schema_us,\n",
    "    time_partitioning=True\n",
    ")"
   ]
  },
  {
   "cell_type": "code",
   "execution_count": 19,
   "metadata": {},
   "outputs": [
    {
     "data": {
      "text/plain": [
       "<google.cloud.bigquery.job.load.LoadJob at 0x7f9c50bc4828>"
      ]
     },
     "execution_count": 19,
     "metadata": {},
     "output_type": "execute_result"
    }
   ],
   "source": [
    "load_job.result()"
   ]
  },
  {
   "cell_type": "markdown",
   "metadata": {},
   "source": [
    "### Global"
   ]
  },
  {
   "cell_type": "code",
   "execution_count": 20,
   "metadata": {},
   "outputs": [],
   "source": [
    "d = datetime.date.today() - datetime.timedelta(days=1)\n",
    "# d = datetime.date(2020, 1, 22)"
   ]
  },
  {
   "cell_type": "code",
   "execution_count": 21,
   "metadata": {},
   "outputs": [],
   "source": [
    "url = 'https://raw.githubusercontent.com/CSSEGISandData/COVID-19/master/csse_covid_19_data/csse_covid_19_daily_reports/'"
   ]
  },
  {
   "cell_type": "code",
   "execution_count": 22,
   "metadata": {
    "scrolled": true
   },
   "outputs": [],
   "source": [
    "# col_set = find_all_cols(url, start_dt=datetime.date(2020, 1, 22), end_dt=d)"
   ]
  },
  {
   "cell_type": "code",
   "execution_count": 23,
   "metadata": {},
   "outputs": [],
   "source": [
    "col_mapping_global = {\n",
    "    'FIPS': ('FIPS', 'float64'), # Federal Information Processing Standards code that uniquely identifies counties within the US\n",
    "    'Admin2': ('county', 'object'), # US only\n",
    "    'Province/State': ('province_state', 'object'),\n",
    "    'Province_State': ('province_state', 'object'),\n",
    "    'Country_Region': ('country_region', 'object'),\n",
    "    'Country/Region': ('country_region', 'object'),\n",
    "    'Combined_Key': ('combined_key', 'object'),\n",
    "    'Latitude': ('latitude', 'float64'),\n",
    "    'Lat': ('latitude', 'float64'),\n",
    "    'Longitude': ('longitude', 'float64'),\n",
    "    'Long_': ('longitude', 'float64'),\n",
    "    'Confirmed': ('confirmed', 'float64'),\n",
    "    'Deaths': ('deaths', 'float64'),\n",
    "    'Recovered': ('recovered', 'float64'),\n",
    "    'Active': ('active', 'float64'),\n",
    "    'Incident_Rate': ('incident_rate', 'float64'),\n",
    "    'Incidence_Rate': ('incident_rate', 'float64'),\n",
    "    'Case_Fatality_Ratio': ('case_fatality_ratio', 'float64'),\n",
    "    'Case-Fatality_Ratio': ('case_fatality_ratio', 'float64'),\n",
    "    'Last Update': ('last_update', 'datetime64'),\n",
    "    'Last_Update': ('last_update', 'datetime64'),\n",
    "}"
   ]
  },
  {
   "cell_type": "code",
   "execution_count": 24,
   "metadata": {},
   "outputs": [],
   "source": [
    "col_order_global = [\n",
    "    'FIPS',\n",
    "    'county',\n",
    "    'province_state',\n",
    "    'country_region',\n",
    "    'combined_key',\n",
    "    'latitude',\n",
    "    'longitude',\n",
    "    'confirmed',\n",
    "    'deaths',\n",
    "    'recovered',\n",
    "    'active',\n",
    "    'incident_rate',\n",
    "    'case_fatality_ratio',\n",
    "    'last_update',\n",
    "]"
   ]
  },
  {
   "cell_type": "code",
   "execution_count": 25,
   "metadata": {},
   "outputs": [],
   "source": [
    "daily_report_global = pd.read_csv(url + d.strftime('%m-%d-%Y') + '.csv')\n",
    "daily_report_global = standardize_daily_reports(daily_report_global, col_mapping_global, col_order_global)"
   ]
  },
  {
   "cell_type": "code",
   "execution_count": 26,
   "metadata": {},
   "outputs": [
    {
     "data": {
      "text/plain": [
       "(3974, 14)"
      ]
     },
     "execution_count": 26,
     "metadata": {},
     "output_type": "execute_result"
    }
   ],
   "source": [
    "daily_report_global.shape"
   ]
  },
  {
   "cell_type": "code",
   "execution_count": 27,
   "metadata": {},
   "outputs": [
    {
     "data": {
      "text/plain": [
       "FIPS                          float64\n",
       "county                         object\n",
       "province_state                 object\n",
       "country_region                 object\n",
       "combined_key                   object\n",
       "latitude                      float64\n",
       "longitude                     float64\n",
       "confirmed                     float64\n",
       "deaths                        float64\n",
       "recovered                     float64\n",
       "active                        float64\n",
       "incident_rate                 float64\n",
       "case_fatality_ratio           float64\n",
       "last_update            datetime64[ns]\n",
       "dtype: object"
      ]
     },
     "execution_count": 27,
     "metadata": {},
     "output_type": "execute_result"
    }
   ],
   "source": [
    "daily_report_global.dtypes"
   ]
  },
  {
   "cell_type": "code",
   "execution_count": 28,
   "metadata": {},
   "outputs": [
    {
     "data": {
      "text/html": [
       "<div>\n",
       "<style scoped>\n",
       "    .dataframe tbody tr th:only-of-type {\n",
       "        vertical-align: middle;\n",
       "    }\n",
       "\n",
       "    .dataframe tbody tr th {\n",
       "        vertical-align: top;\n",
       "    }\n",
       "\n",
       "    .dataframe thead th {\n",
       "        text-align: right;\n",
       "    }\n",
       "</style>\n",
       "<table border=\"1\" class=\"dataframe\">\n",
       "  <thead>\n",
       "    <tr style=\"text-align: right;\">\n",
       "      <th></th>\n",
       "      <th>FIPS</th>\n",
       "      <th>county</th>\n",
       "      <th>province_state</th>\n",
       "      <th>country_region</th>\n",
       "      <th>combined_key</th>\n",
       "      <th>latitude</th>\n",
       "      <th>longitude</th>\n",
       "      <th>confirmed</th>\n",
       "      <th>deaths</th>\n",
       "      <th>recovered</th>\n",
       "      <th>active</th>\n",
       "      <th>incident_rate</th>\n",
       "      <th>case_fatality_ratio</th>\n",
       "      <th>last_update</th>\n",
       "    </tr>\n",
       "  </thead>\n",
       "  <tbody>\n",
       "    <tr>\n",
       "      <th>0</th>\n",
       "      <td>NaN</td>\n",
       "      <td>NaN</td>\n",
       "      <td>NaN</td>\n",
       "      <td>Afghanistan</td>\n",
       "      <td>Afghanistan</td>\n",
       "      <td>33.93911</td>\n",
       "      <td>67.709953</td>\n",
       "      <td>43628.0</td>\n",
       "      <td>1638.0</td>\n",
       "      <td>35160.0</td>\n",
       "      <td>6830.0</td>\n",
       "      <td>112.072590</td>\n",
       "      <td>3.754470</td>\n",
       "      <td>2020-11-18 05:40:31</td>\n",
       "    </tr>\n",
       "    <tr>\n",
       "      <th>1</th>\n",
       "      <td>NaN</td>\n",
       "      <td>NaN</td>\n",
       "      <td>NaN</td>\n",
       "      <td>Albania</td>\n",
       "      <td>Albania</td>\n",
       "      <td>41.15330</td>\n",
       "      <td>20.168300</td>\n",
       "      <td>29126.0</td>\n",
       "      <td>637.0</td>\n",
       "      <td>13804.0</td>\n",
       "      <td>14685.0</td>\n",
       "      <td>1012.092571</td>\n",
       "      <td>2.187049</td>\n",
       "      <td>2020-11-18 05:40:31</td>\n",
       "    </tr>\n",
       "    <tr>\n",
       "      <th>2</th>\n",
       "      <td>NaN</td>\n",
       "      <td>NaN</td>\n",
       "      <td>NaN</td>\n",
       "      <td>Algeria</td>\n",
       "      <td>Algeria</td>\n",
       "      <td>28.03390</td>\n",
       "      <td>1.659600</td>\n",
       "      <td>69591.0</td>\n",
       "      <td>2186.0</td>\n",
       "      <td>45148.0</td>\n",
       "      <td>22257.0</td>\n",
       "      <td>158.698620</td>\n",
       "      <td>3.141211</td>\n",
       "      <td>2020-11-18 05:40:31</td>\n",
       "    </tr>\n",
       "    <tr>\n",
       "      <th>3</th>\n",
       "      <td>NaN</td>\n",
       "      <td>NaN</td>\n",
       "      <td>NaN</td>\n",
       "      <td>Andorra</td>\n",
       "      <td>Andorra</td>\n",
       "      <td>42.50630</td>\n",
       "      <td>1.521800</td>\n",
       "      <td>5951.0</td>\n",
       "      <td>76.0</td>\n",
       "      <td>4965.0</td>\n",
       "      <td>910.0</td>\n",
       "      <td>7702.064324</td>\n",
       "      <td>1.277096</td>\n",
       "      <td>2020-11-18 05:40:31</td>\n",
       "    </tr>\n",
       "    <tr>\n",
       "      <th>4</th>\n",
       "      <td>NaN</td>\n",
       "      <td>NaN</td>\n",
       "      <td>NaN</td>\n",
       "      <td>Angola</td>\n",
       "      <td>Angola</td>\n",
       "      <td>-11.20270</td>\n",
       "      <td>17.873900</td>\n",
       "      <td>13818.0</td>\n",
       "      <td>328.0</td>\n",
       "      <td>6582.0</td>\n",
       "      <td>6908.0</td>\n",
       "      <td>42.043106</td>\n",
       "      <td>2.373715</td>\n",
       "      <td>2020-11-18 05:40:31</td>\n",
       "    </tr>\n",
       "  </tbody>\n",
       "</table>\n",
       "</div>"
      ],
      "text/plain": [
       "   FIPS county province_state country_region combined_key  latitude  \\\n",
       "0   NaN    NaN            NaN    Afghanistan  Afghanistan  33.93911   \n",
       "1   NaN    NaN            NaN        Albania      Albania  41.15330   \n",
       "2   NaN    NaN            NaN        Algeria      Algeria  28.03390   \n",
       "3   NaN    NaN            NaN        Andorra      Andorra  42.50630   \n",
       "4   NaN    NaN            NaN         Angola       Angola -11.20270   \n",
       "\n",
       "   longitude  confirmed  deaths  recovered   active  incident_rate  \\\n",
       "0  67.709953    43628.0  1638.0    35160.0   6830.0     112.072590   \n",
       "1  20.168300    29126.0   637.0    13804.0  14685.0    1012.092571   \n",
       "2   1.659600    69591.0  2186.0    45148.0  22257.0     158.698620   \n",
       "3   1.521800     5951.0    76.0     4965.0    910.0    7702.064324   \n",
       "4  17.873900    13818.0   328.0     6582.0   6908.0      42.043106   \n",
       "\n",
       "   case_fatality_ratio         last_update  \n",
       "0             3.754470 2020-11-18 05:40:31  \n",
       "1             2.187049 2020-11-18 05:40:31  \n",
       "2             3.141211 2020-11-18 05:40:31  \n",
       "3             1.277096 2020-11-18 05:40:31  \n",
       "4             2.373715 2020-11-18 05:40:31  "
      ]
     },
     "execution_count": 28,
     "metadata": {},
     "output_type": "execute_result"
    }
   ],
   "source": [
    "daily_report_global.head()"
   ]
  },
  {
   "cell_type": "code",
   "execution_count": 29,
   "metadata": {},
   "outputs": [],
   "source": [
    "schema_global = [\n",
    "    ('FIPS', 'INT64'),\n",
    "    ('county', 'STRING'),\n",
    "    ('province_state', 'STRING'),\n",
    "    ('country_region', 'STRING'),\n",
    "    ('combined_key', 'STRING'),\n",
    "    ('latitude', 'FLOAT64'),\n",
    "    ('longitude', 'FLOAT64'),\n",
    "    ('confirmed', 'INT64'),\n",
    "    ('deaths', 'INT64'),\n",
    "    ('recovered', 'INT64'),\n",
    "    ('active', 'INT64'),\n",
    "    ('incident_rate', 'FLOAT64'),\n",
    "    ('case_fatality_ratio', 'FLOAT64'),\n",
    "    ('last_update', 'TIMESTAMP'),\n",
    "]"
   ]
  },
  {
   "cell_type": "code",
   "execution_count": 30,
   "metadata": {},
   "outputs": [],
   "source": [
    "load_job = loader.load_df(\n",
    "    daily_report_global,\n",
    "    'stanleysfang.surveillance_2019_ncov.csse_covid_19_daily_reports_global${}'.format(d.strftime('%Y%m%d')),\n",
    "    schema=schema_global,\n",
    "    time_partitioning=True\n",
    ")"
   ]
  },
  {
   "cell_type": "code",
   "execution_count": 31,
   "metadata": {},
   "outputs": [
    {
     "data": {
      "text/plain": [
       "<google.cloud.bigquery.job.load.LoadJob at 0x7f9c50b53128>"
      ]
     },
     "execution_count": 31,
     "metadata": {},
     "output_type": "execute_result"
    }
   ],
   "source": [
    "load_job.result()"
   ]
  },
  {
   "cell_type": "markdown",
   "metadata": {},
   "source": [
    "### OOP"
   ]
  },
  {
   "cell_type": "code",
   "execution_count": 32,
   "metadata": {},
   "outputs": [],
   "source": [
    "class CSSECovid19DailyReports:\n",
    "    def __init__(self, client=None, run_project=\"stanleysfang\"):\n",
    "        if client:\n",
    "            self.client = client\n",
    "        else:\n",
    "            self.client = bigquery.Client(project=run_project)\n",
    "        \n",
    "        self.run_project = self.client.project\n",
    "        self.qr = QueryRunner(client=self.client)\n",
    "        self.loader = Loader(client=self.client)\n",
    "        self.extractor = Extractor(client=self.client)\n",
    "        \n",
    "        # US\n",
    "        self.url_us = 'https://raw.githubusercontent.com/CSSEGISandData/COVID-19/master/csse_covid_19_data/csse_covid_19_daily_reports_us/'\n",
    "        self.col_mapping_us = {\n",
    "            'UID': ('UID', 'float64'),\n",
    "            'FIPS': ('FIPS', 'float64'), # Federal Information Processing Standards code that uniquely identifies counties within the US\n",
    "            'ISO3': ('iso3', 'object'),\n",
    "            'Province_State': ('province_state', 'object'),\n",
    "            'Country_Region': ('country_region', 'object'),\n",
    "            'Lat': ('latitude', 'float64'),\n",
    "            'Long_': ('longitude', 'float64'),\n",
    "            'Confirmed': ('confirmed', 'float64'),\n",
    "            'Deaths': ('deaths', 'float64'),\n",
    "            'Recovered': ('recovered', 'float64'),\n",
    "            'Active': ('active', 'float64'),\n",
    "            'Incident_Rate': ('incident_rate', 'float64'),\n",
    "            'Case_Fatality_Ratio': ('case_fatality_ratio', 'float64'),\n",
    "            'Mortality_Rate': ('case_fatality_ratio', 'float64'),\n",
    "            'Total_Test_Results': ('total_test_results', 'float64'),\n",
    "            'People_Tested': ('total_test_results', 'float64'),\n",
    "            'Testing_Rate': ('testing_rate', 'float64'),\n",
    "            'People_Hospitalized': ('people_hospitalized', 'float64'),\n",
    "            'Hospitalization_Rate': ('hospitalization_rate', 'float64'),\n",
    "            'Last_Update': ('last_update', 'datetime64'),\n",
    "        }\n",
    "        self.col_order_us = [\n",
    "            'UID',\n",
    "            'FIPS',\n",
    "            'iso3',\n",
    "            'province_state',\n",
    "            'country_region',\n",
    "            'latitude',\n",
    "            'longitude',\n",
    "            'confirmed',\n",
    "            'deaths',\n",
    "            'recovered',\n",
    "            'active',\n",
    "            'incident_rate',\n",
    "            'case_fatality_ratio',\n",
    "            'total_test_results',\n",
    "            'testing_rate',\n",
    "            'people_hospitalized',\n",
    "            'hospitalization_rate',\n",
    "            'last_update',\n",
    "        ]\n",
    "        self.schema_us = [\n",
    "            ('UID', 'INT64'),\n",
    "            ('FIPS', 'INT64'),\n",
    "            ('iso3', 'STRING'),\n",
    "            ('province_state', 'STRING'),\n",
    "            ('country_region', 'STRING'),\n",
    "            ('latitude', 'FLOAT64'),\n",
    "            ('longitude', 'FLOAT64'),\n",
    "            ('confirmed', 'INT64'),\n",
    "            ('deaths', 'INT64'),\n",
    "            ('recovered', 'INT64'),\n",
    "            ('active', 'INT64'),\n",
    "            ('incident_rate', 'FLOAT64'),\n",
    "            ('case_fatality_ratio', 'FLOAT64'),\n",
    "            ('total_test_results', 'INT64'),\n",
    "            ('testing_rate', 'FLOAT64'),\n",
    "            ('people_hospitalized', 'INT64'),\n",
    "            ('hospitalization_rate', 'FLOAT64'),\n",
    "            ('last_update', 'TIMESTAMP'),\n",
    "        ]\n",
    "        \n",
    "        # Global\n",
    "        self.url_global = 'https://raw.githubusercontent.com/CSSEGISandData/COVID-19/master/csse_covid_19_data/csse_covid_19_daily_reports/'\n",
    "        self.col_mapping_global = {\n",
    "            'FIPS': ('FIPS', 'float64'), # Federal Information Processing Standards code that uniquely identifies counties within the US\n",
    "            'Admin2': ('county', 'object'), # US only\n",
    "            'Province/State': ('province_state', 'object'),\n",
    "            'Province_State': ('province_state', 'object'),\n",
    "            'Country_Region': ('country_region', 'object'),\n",
    "            'Country/Region': ('country_region', 'object'),\n",
    "            'Combined_Key': ('combined_key', 'object'),\n",
    "            'Latitude': ('latitude', 'float64'),\n",
    "            'Lat': ('latitude', 'float64'),\n",
    "            'Longitude': ('longitude', 'float64'),\n",
    "            'Long_': ('longitude', 'float64'),\n",
    "            'Confirmed': ('confirmed', 'float64'),\n",
    "            'Deaths': ('deaths', 'float64'),\n",
    "            'Recovered': ('recovered', 'float64'),\n",
    "            'Active': ('active', 'float64'),\n",
    "            'Incident_Rate': ('incident_rate', 'float64'),\n",
    "            'Incidence_Rate': ('incident_rate', 'float64'),\n",
    "            'Case_Fatality_Ratio': ('case_fatality_ratio', 'float64'),\n",
    "            'Case-Fatality_Ratio': ('case_fatality_ratio', 'float64'),\n",
    "            'Last Update': ('last_update', 'datetime64'),\n",
    "            'Last_Update': ('last_update', 'datetime64'),\n",
    "        }\n",
    "        self.col_order_global = [\n",
    "            'FIPS',\n",
    "            'county',\n",
    "            'province_state',\n",
    "            'country_region',\n",
    "            'combined_key',\n",
    "            'latitude',\n",
    "            'longitude',\n",
    "            'confirmed',\n",
    "            'deaths',\n",
    "            'recovered',\n",
    "            'active',\n",
    "            'incident_rate',\n",
    "            'case_fatality_ratio',\n",
    "            'last_update',\n",
    "        ]\n",
    "        self.schema_global = [\n",
    "            ('FIPS', 'INT64'),\n",
    "            ('county', 'STRING'),\n",
    "            ('province_state', 'STRING'),\n",
    "            ('country_region', 'STRING'),\n",
    "            ('combined_key', 'STRING'),\n",
    "            ('latitude', 'FLOAT64'),\n",
    "            ('longitude', 'FLOAT64'),\n",
    "            ('confirmed', 'INT64'),\n",
    "            ('deaths', 'INT64'),\n",
    "            ('recovered', 'INT64'),\n",
    "            ('active', 'INT64'),\n",
    "            ('incident_rate', 'FLOAT64'),\n",
    "            ('case_fatality_ratio', 'FLOAT64'),\n",
    "            ('last_update', 'TIMESTAMP'),\n",
    "        ]\n",
    "    \n",
    "    def find_all_cols(self, url, start_dt, end_dt=datetime.date.today() - datetime.timedelta(days=1)):\n",
    "        col_set = set()\n",
    "        for d in pd.date_range(start_dt, end_dt):\n",
    "            print(d.strftime('%Y-%m-%d'))\n",
    "            df = pd.read_csv(url + d.strftime('%m-%d-%Y') + '.csv')\n",
    "            for col in df.columns:\n",
    "                if col not in col_set:\n",
    "                    col_set.add(col)\n",
    "        print(col_set)\n",
    "        return col_set\n",
    "    \n",
    "    def standardize_daily_reports(self, df, col_mapping, col_order):\n",
    "        cols = []\n",
    "        for col in df.columns:\n",
    "            cols.append(col_mapping[col][0])\n",
    "            df[col] = df[col].astype(col_mapping[col][1])\n",
    "        df.columns = cols\n",
    "        for col, dtype in set(col_mapping.values()):\n",
    "            if col not in df.columns:\n",
    "                df[col] = pd.Series(dtype=dtype)\n",
    "        df = df[col_order]\n",
    "        return df\n",
    "    \n",
    "    def update(self, dt, end_dt, destination_table, url, col_mapping, col_order, schema):\n",
    "        dt_list = None\n",
    "        if isinstance(dt, (str, datetime.date)) and isinstance(end_dt, (str, datetime.date)):\n",
    "            dt_list = pd.date_range(start=dt, end=end_dt).tolist()\n",
    "        elif isinstance(dt, (str, datetime.date)):\n",
    "            dt_list = [dt]\n",
    "        elif isinstance(dt, list):\n",
    "            dt_list = dt\n",
    "        \n",
    "        assert isinstance(dt_list, list), 'dt must be a str in \"YYYY-mm-dd\" format or a datetime.date object or a list of these'\n",
    "        \n",
    "        for d in dt_list:\n",
    "            assert isinstance(d, (str, datetime.date)), 'dt must be a str in \"YYYY-mm-dd\" format or a datetime.date object or a list of these'\n",
    "            \n",
    "            if isinstance(d, str):\n",
    "                d = datetime.datetime.strptime(d, '%Y-%m-%d').date()\n",
    "            \n",
    "            print('Updating ' + d.strftime('%Y-%m-%d') + ' ... ', end='', flush=True)\n",
    "            daily_report = pd.read_csv(url + d.strftime('%m-%d-%Y') + '.csv')\n",
    "            daily_report = self.standardize_daily_reports(daily_report, col_mapping, col_order)\n",
    "            load_job = self.loader.load_df(\n",
    "                daily_report,\n",
    "                '{destination_table}${partition}'.format(destination_table=destination_table, partition=d.strftime('%Y%m%d')),\n",
    "                schema=schema,\n",
    "                time_partitioning=True\n",
    "            )\n",
    "            load_job.result()\n",
    "            print('Done')\n",
    "    \n",
    "    def update_us(self, dt, end_dt=None, destination_table='stanleysfang.surveillance_2019_ncov.csse_covid_19_daily_reports_us'):\n",
    "        print('CSSE COVID-19 Daily Reports US:')\n",
    "        self.update(\n",
    "            dt, end_dt, destination_table,\n",
    "            url=self.url_us,\n",
    "            col_mapping=self.col_mapping_us,\n",
    "            col_order=self.col_order_us,\n",
    "            schema=self.schema_us\n",
    "        )\n",
    "    \n",
    "    def update_global(self, dt, end_dt=None, destination_table='stanleysfang.surveillance_2019_ncov.csse_covid_19_daily_reports_global'):\n",
    "        print('CSSE COVID-19 Daily Reports Global:')\n",
    "        self.update(\n",
    "            dt, end_dt, destination_table,\n",
    "            url=self.url_global,\n",
    "            col_mapping=self.col_mapping_global,\n",
    "            col_order=self.col_order_global,\n",
    "            schema=self.schema_global\n",
    "        )\n"
   ]
  },
  {
   "cell_type": "code",
   "execution_count": 33,
   "metadata": {},
   "outputs": [],
   "source": [
    "daily_reports = CSSECovid19DailyReports(client)"
   ]
  },
  {
   "cell_type": "code",
   "execution_count": 34,
   "metadata": {
    "scrolled": true
   },
   "outputs": [
    {
     "name": "stdout",
     "output_type": "stream",
     "text": [
      "Updating 2020-11-17 ... Done\n"
     ]
    }
   ],
   "source": [
    "daily_reports.update_us(datetime.date.today() - datetime.timedelta(days=1))"
   ]
  },
  {
   "cell_type": "code",
   "execution_count": 35,
   "metadata": {},
   "outputs": [
    {
     "name": "stdout",
     "output_type": "stream",
     "text": [
      "Updating 2020-11-17 ... Done\n"
     ]
    }
   ],
   "source": [
    "daily_reports.update_global(datetime.date.today() - datetime.timedelta(days=1))"
   ]
  }
 ],
 "metadata": {
  "kernelspec": {
   "display_name": "Python 3.7.0 (surveillance_2019_ncov)",
   "language": "python",
   "name": "surveillance_2019_ncov"
  },
  "language_info": {
   "codemirror_mode": {
    "name": "ipython",
    "version": 3
   },
   "file_extension": ".py",
   "mimetype": "text/x-python",
   "name": "python",
   "nbconvert_exporter": "python",
   "pygments_lexer": "ipython3",
   "version": "3.7.0"
  }
 },
 "nbformat": 4,
 "nbformat_minor": 2
}
