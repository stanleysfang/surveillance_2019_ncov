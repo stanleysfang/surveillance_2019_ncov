{
 "cells": [
  {
   "cell_type": "code",
   "execution_count": 1,
   "metadata": {},
   "outputs": [],
   "source": [
    "import sys\n",
    "sys.path = [\n",
    "    '',\n",
    "    '/home/sfang/anaconda3/envs/surveillance_2019_ncov/lib/python36.zip',\n",
    "    '/home/sfang/anaconda3/envs/surveillance_2019_ncov/lib/python3.6',\n",
    "    '/home/sfang/anaconda3/envs/surveillance_2019_ncov/lib/python3.6/lib-dynload',\n",
    "    '/home/sfang/anaconda3/envs/surveillance_2019_ncov/lib/python3.6/site-packages'\n",
    "]"
   ]
  },
  {
   "cell_type": "code",
   "execution_count": 2,
   "metadata": {},
   "outputs": [],
   "source": [
    "from google.cloud import bigquery\n",
    "import pandas as pd\n",
    "import datetime\n",
    "import re"
   ]
  },
  {
   "cell_type": "code",
   "execution_count": 3,
   "metadata": {},
   "outputs": [],
   "source": [
    "project_id = 'stanleysfang'"
   ]
  },
  {
   "cell_type": "code",
   "execution_count": 4,
   "metadata": {},
   "outputs": [
    {
     "name": "stderr",
     "output_type": "stream",
     "text": [
      "/home/sfang/anaconda3/envs/surveillance_2019_ncov/lib/python3.6/site-packages/google/auth/_default.py:69: UserWarning: Your application has authenticated using end user credentials from Google Cloud SDK. We recommend that most server applications use service accounts instead. If your application continues to use end user credentials from Cloud SDK, you might receive a \"quota exceeded\" or \"API not enabled\" error. For more information about service accounts, see https://cloud.google.com/docs/authentication/\n",
      "  warnings.warn(_CLOUD_SDK_CREDENTIALS_WARNING)\n"
     ]
    }
   ],
   "source": [
    "client = bigquery.Client(project=project_id)"
   ]
  },
  {
   "cell_type": "markdown",
   "metadata": {},
   "source": [
    "#### Load Data"
   ]
  },
  {
   "cell_type": "code",
   "execution_count": 5,
   "metadata": {},
   "outputs": [],
   "source": [
    "confirmed = pd.read_csv('https://raw.githubusercontent.com/CSSEGISandData/COVID-19/master/csse_covid_19_data/csse_covid_19_time_series/time_series_covid19_confirmed_global.csv')\n",
    "deaths = pd.read_csv('https://raw.githubusercontent.com/CSSEGISandData/COVID-19/master/csse_covid_19_data/csse_covid_19_time_series/time_series_covid19_deaths_global.csv')\n",
    "recovered = pd.read_csv('https://raw.githubusercontent.com/CSSEGISandData/COVID-19/master/csse_covid_19_data/csse_covid_19_time_series/time_series_covid19_recovered_global.csv')"
   ]
  },
  {
   "cell_type": "code",
   "execution_count": 6,
   "metadata": {},
   "outputs": [],
   "source": [
    "dt_cols = [datetime.datetime.strptime(dt, '%m/%d/%y').strftime('dt_%Y%m%d') for dt in list(confirmed.columns)[4:]]"
   ]
  },
  {
   "cell_type": "code",
   "execution_count": 7,
   "metadata": {},
   "outputs": [],
   "source": [
    "confirmed.columns = ['province_state', 'country_region', 'latitude', 'longitude'] + dt_cols\n",
    "deaths.columns = ['province_state', 'country_region', 'latitude', 'longitude'] + dt_cols\n",
    "recovered.columns = ['province_state', 'country_region', 'latitude', 'longitude'] + dt_cols"
   ]
  },
  {
   "cell_type": "code",
   "execution_count": 8,
   "metadata": {},
   "outputs": [],
   "source": [
    "job_config = bigquery.LoadJobConfig()\n",
    "\n",
    "job_config.write_disposition = 'WRITE_TRUNCATE'\n",
    "job_config.schema = [\n",
    "    bigquery.SchemaField('province_state', 'STRING'),\n",
    "    bigquery.SchemaField('country_region', 'STRING'),\n",
    "    bigquery.SchemaField('latitude', 'FLOAT64'),\n",
    "    bigquery.SchemaField('longitude', 'FLOAT64')    \n",
    "] + [bigquery.SchemaField(dt_col, 'INT64') for dt_col in dt_cols]"
   ]
  },
  {
   "cell_type": "code",
   "execution_count": 9,
   "metadata": {},
   "outputs": [],
   "source": [
    "for df, metric in [(confirmed, 'confirmed'), (deaths, 'deaths'), (recovered, 'recovered')]:\n",
    "    load_job = client.load_table_from_dataframe(\n",
    "        df,\n",
    "        destination='stanleysfang.surveillance_2019_ncov.ts_2019_ncov_{metric}_raw'.format(metric=metric),\n",
    "        job_config=job_config\n",
    "    )\n",
    "    load_job.result()"
   ]
  },
  {
   "cell_type": "markdown",
   "metadata": {},
   "source": [
    "#### Dataprep"
   ]
  },
  {
   "cell_type": "code",
   "execution_count": 10,
   "metadata": {},
   "outputs": [],
   "source": [
    "ts_2019_ncov_temp_query = ''\n",
    "\n",
    "for dt_col in dt_cols:\n",
    "    ts_2019_ncov_temp_query = \\\n",
    "    \"\"\"{ts_2019_ncov_temp_query}\n",
    "    SELECT\n",
    "        PARSE_DATE('dt_%Y%m%d', '{dt_col}') AS dt,\n",
    "        a.province_state, a.country_region, a.latitude, a.longitude,\n",
    "        a.{dt_col} AS confirmed,\n",
    "        b.{dt_col} AS deaths,\n",
    "        c.{dt_col} AS recovered,\n",
    "    FROM `stanleysfang.surveillance_2019_ncov.ts_2019_ncov_confirmed_raw` a\n",
    "    LEFT JOIN `stanleysfang.surveillance_2019_ncov.ts_2019_ncov_deaths_raw` b\n",
    "    ON IFNULL(a.province_state, '') = IFNULL(b.province_state, '') AND a.country_region = b.country_region\n",
    "    LEFT JOIN `stanleysfang.surveillance_2019_ncov.ts_2019_ncov_recovered_raw` c\n",
    "    ON IFNULL(a.province_state, '') = IFNULL(c.province_state, '') AND a.country_region = c.country_region\n",
    "    \n",
    "    UNION ALL\n",
    "    \"\"\".format(ts_2019_ncov_temp_query=ts_2019_ncov_temp_query, dt_col=dt_col)\n",
    "\n",
    "ts_2019_ncov_temp_query = re.sub('[(UNION ALL)\\n ]*$', '\\n', ts_2019_ncov_temp_query)"
   ]
  },
  {
   "cell_type": "code",
   "execution_count": 11,
   "metadata": {},
   "outputs": [],
   "source": [
    "# print(ts_2019_ncov_temp_query)"
   ]
  },
  {
   "cell_type": "code",
   "execution_count": 12,
   "metadata": {},
   "outputs": [],
   "source": [
    "ts_2019_ncov_query = \\\n",
    "\"\"\"\n",
    "SELECT\n",
    "    dt, province_state, country_region, latitude, longitude,\n",
    "    confirmed, deaths, recovered,\n",
    "    IFNULL(confirmed_new, confirmed) AS confirmed_new,\n",
    "    IFNULL(deaths_new, deaths) AS deaths_new,\n",
    "    IFNULL(recovered_new, recovered) AS recovered_new,\n",
    "    TIMESTAMP(REGEXP_REPLACE(STRING(CURRENT_TIMESTAMP, \"America/Los_Angeles\"), r'[\\+-][0-9]{2}$', '')) AS last_updated_ts\n",
    "FROM (\n",
    "    SELECT\n",
    "        dt, province_state, country_region, latitude, longitude,\n",
    "        confirmed, deaths, recovered,\n",
    "        confirmed - LAG(confirmed) OVER(PARTITION BY province_state, country_region ORDER BY dt) AS confirmed_new,\n",
    "        deaths - LAG(deaths) OVER(PARTITION BY province_state, country_region ORDER BY dt) AS deaths_new,\n",
    "        recovered - LAG(recovered) OVER(PARTITION BY province_state, country_region ORDER BY dt) AS recovered_new\n",
    "    FROM ({ts_2019_ncov_temp_query})\n",
    ")\n",
    "\"\"\".format(ts_2019_ncov_temp_query=ts_2019_ncov_temp_query)"
   ]
  },
  {
   "cell_type": "code",
   "execution_count": 13,
   "metadata": {},
   "outputs": [],
   "source": [
    "job_config = bigquery.QueryJobConfig()\n",
    "\n",
    "job_config.use_legacy_sql = False\n",
    "job_config.destination = 'stanleysfang.surveillance_2019_ncov.ts_2019_ncov'\n",
    "job_config.write_disposition = 'WRITE_TRUNCATE'\n",
    "job_config.time_partitioning = bigquery.table.TimePartitioning(field='dt')\n",
    "job_config.dry_run = False"
   ]
  },
  {
   "cell_type": "code",
   "execution_count": 14,
   "metadata": {},
   "outputs": [],
   "source": [
    "query_job = client.query(ts_2019_ncov_query, job_config=job_config)"
   ]
  },
  {
   "cell_type": "code",
   "execution_count": 15,
   "metadata": {},
   "outputs": [
    {
     "data": {
      "text/plain": [
       "<google.cloud.bigquery.table.RowIterator at 0x7f9cc519deb8>"
      ]
     },
     "execution_count": 15,
     "metadata": {},
     "output_type": "execute_result"
    }
   ],
   "source": [
    "query_job.result()"
   ]
  },
  {
   "cell_type": "markdown",
   "metadata": {},
   "source": [
    "#### Extract Table"
   ]
  },
  {
   "cell_type": "code",
   "execution_count": 16,
   "metadata": {},
   "outputs": [],
   "source": [
    "job_config = bigquery.ExtractJobConfig()\n",
    "\n",
    "job_config.destination_format = 'CSV'"
   ]
  },
  {
   "cell_type": "code",
   "execution_count": 17,
   "metadata": {},
   "outputs": [],
   "source": [
    "extract_job = client.extract_table(\n",
    "    'stanleysfang.surveillance_2019_ncov.ts_2019_ncov',\n",
    "    'gs://surveillance_2019_ncov/ts_2019_ncov.csv',\n",
    "    job_config=job_config\n",
    ")"
   ]
  },
  {
   "cell_type": "code",
   "execution_count": 18,
   "metadata": {
    "scrolled": true
   },
   "outputs": [
    {
     "data": {
      "text/plain": [
       "<google.cloud.bigquery.job.ExtractJob at 0x7f9c875a19e8>"
      ]
     },
     "execution_count": 18,
     "metadata": {},
     "output_type": "execute_result"
    }
   ],
   "source": [
    "extract_job.result()"
   ]
  }
 ],
 "metadata": {
  "kernelspec": {
   "display_name": "Python 3",
   "language": "python",
   "name": "python3"
  },
  "language_info": {
   "codemirror_mode": {
    "name": "ipython",
    "version": 3
   },
   "file_extension": ".py",
   "mimetype": "text/x-python",
   "name": "python",
   "nbconvert_exporter": "python",
   "pygments_lexer": "ipython3",
   "version": "3.6.5"
  }
 },
 "nbformat": 4,
 "nbformat_minor": 2
}
